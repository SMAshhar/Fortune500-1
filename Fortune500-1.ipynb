{
  "nbformat": 4,
  "nbformat_minor": 0,
  "metadata": {
    "colab": {
      "name": "Untitled2.ipynb",
      "provenance": [],
      "collapsed_sections": []
    },
    "kernelspec": {
      "name": "python3",
      "display_name": "Python 3"
    },
    "language_info": {
      "name": "python"
    }
  },
  "cells": [
    {
      "cell_type": "code",
      "metadata": {
        "colab": {
          "base_uri": "https://localhost:8080/",
          "height": 195
        },
        "id": "cW5LIxLn0AbO",
        "outputId": "12072284-4590-4a0d-cdf2-b16930666903"
      },
      "source": [
        "import csv\n",
        "import numpy as np\n",
        "import pandas as pd\n",
        "\n",
        "data  = pd.read_csv('fortune500-1.csv')\n",
        "data.head()"
      ],
      "execution_count": 1,
      "outputs": [
        {
          "output_type": "execute_result",
          "data": {
            "text/html": [
              "<div>\n",
              "<style scoped>\n",
              "    .dataframe tbody tr th:only-of-type {\n",
              "        vertical-align: middle;\n",
              "    }\n",
              "\n",
              "    .dataframe tbody tr th {\n",
              "        vertical-align: top;\n",
              "    }\n",
              "\n",
              "    .dataframe thead th {\n",
              "        text-align: right;\n",
              "    }\n",
              "</style>\n",
              "<table border=\"1\" class=\"dataframe\">\n",
              "  <thead>\n",
              "    <tr style=\"text-align: right;\">\n",
              "      <th></th>\n",
              "      <th>Year</th>\n",
              "      <th>Rank</th>\n",
              "      <th>Company</th>\n",
              "      <th>Revenue</th>\n",
              "      <th>Profit</th>\n",
              "    </tr>\n",
              "  </thead>\n",
              "  <tbody>\n",
              "    <tr>\n",
              "      <th>0</th>\n",
              "      <td>1955</td>\n",
              "      <td>1.0</td>\n",
              "      <td>General Motors</td>\n",
              "      <td>9823.5</td>\n",
              "      <td>806</td>\n",
              "    </tr>\n",
              "    <tr>\n",
              "      <th>1</th>\n",
              "      <td>1955</td>\n",
              "      <td>2.0</td>\n",
              "      <td>Exxon Mobil</td>\n",
              "      <td>5661.4</td>\n",
              "      <td>584.8</td>\n",
              "    </tr>\n",
              "    <tr>\n",
              "      <th>2</th>\n",
              "      <td>1955</td>\n",
              "      <td>3.0</td>\n",
              "      <td>U.S. Steel</td>\n",
              "      <td>3250.4</td>\n",
              "      <td>195.4</td>\n",
              "    </tr>\n",
              "    <tr>\n",
              "      <th>3</th>\n",
              "      <td>1955</td>\n",
              "      <td>4.0</td>\n",
              "      <td>General Electric</td>\n",
              "      <td>2959.1</td>\n",
              "      <td>212.6</td>\n",
              "    </tr>\n",
              "    <tr>\n",
              "      <th>4</th>\n",
              "      <td>1955</td>\n",
              "      <td>5.0</td>\n",
              "      <td>Esmark</td>\n",
              "      <td>2510.8</td>\n",
              "      <td>19.1</td>\n",
              "    </tr>\n",
              "  </tbody>\n",
              "</table>\n",
              "</div>"
            ],
            "text/plain": [
              "   Year  Rank           Company  Revenue Profit\n",
              "0  1955   1.0    General Motors   9823.5    806\n",
              "1  1955   2.0       Exxon Mobil   5661.4  584.8\n",
              "2  1955   3.0        U.S. Steel   3250.4  195.4\n",
              "3  1955   4.0  General Electric   2959.1  212.6\n",
              "4  1955   5.0            Esmark   2510.8   19.1"
            ]
          },
          "metadata": {
            "tags": []
          },
          "execution_count": 1
        }
      ]
    },
    {
      "cell_type": "code",
      "metadata": {
        "colab": {
          "base_uri": "https://localhost:8080/"
        },
        "id": "b0LfwF7f01Vf",
        "outputId": "cfb343a5-c029-4735-c8b2-4b3944ab667a"
      },
      "source": [
        "data.Year.unique()"
      ],
      "execution_count": 2,
      "outputs": [
        {
          "output_type": "execute_result",
          "data": {
            "text/plain": [
              "array(['1955', '1955,149,\"Libby, McNeill & Libby\",215.4,4.2',\n",
              "       '1955,272,\"Parke, Davis\",109.9,10.5',\n",
              "       '1955,276,\"Fairbanks, Morse\",108,2.5',\n",
              "       '1955,407,\"American Zinc, Lead & Smelting\",64.5,1.8', '1956',\n",
              "       '1956,134,\"Libby, McNeill & Libby\",261.9,5.4',\n",
              "       '1956,272,\"Parke, Davis\",123.1,14.3',\n",
              "       '1956,286,\"Fairbanks, Morse\",111.9,2.7',\n",
              "       '1956,386,\"American Zinc, Lead & Smelting\",76.7,2.6', '1957',\n",
              "       '1957,133,\"Libby, McNeill & Libby\",292.5,8',\n",
              "       '1957,275,\"Fairbanks, Morse\",135,3.9',\n",
              "       '1957,277,\"Parke, Davis\",134.1,17.6',\n",
              "       '1957,409,\"American Zinc, Lead & Smelting\",76.8,3.2', '1958',\n",
              "       '1958,139,\"Libby, McNeill & Libby\",302.7,3.7',\n",
              "       '1958,254,\"Parke, Davis\",162.3,27.9',\n",
              "       '1958,311,\"Fairbanks, Morse\",120.3,2.6', '1959',\n",
              "       '1959,139,\"Libby, McNeill & Libby\",296,2.7',\n",
              "       '1959,229,\"Parke, Davis\",172.6,28',\n",
              "       '1959,376,\"Fairbanks, Morse\",89.7,0.8', '1960',\n",
              "       '1960,154,\"Libby, McNeill & Libby\",296.2,5.8',\n",
              "       '1960,236,\"Parke, Davis\",191.5,31', '1961',\n",
              "       '1961,161,\"Libby, McNeill & Libby\",294.7,4.2',\n",
              "       '1961,234,\"Parke, Davis\",200,30.5', '1962',\n",
              "       '1962,179,\"Libby, McNeill & Libby\",270,2.6',\n",
              "       '1962,251,\"Parke, Davis\",184.3,22.3', '1963',\n",
              "       '1963,187,\"Libby, McNeill & Libby\",286.2,3',\n",
              "       '1963,270,\"Parke, Davis\",181.7,19.1', '1964',\n",
              "       '1964,205,\"Libby, McNeill & Libby\",276.3,3.1',\n",
              "       '1964,282,\"Parke, Davis\",189.2,22.2', '1965',\n",
              "       '1965,213,\"Libby, McNeill & Libby\",289.7,6.1',\n",
              "       '1965,290,\"Parke, Davis\",204.6,26.2', '1966',\n",
              "       '1966,230,\"Libby, McNeill & Libby\",300.7,2.5',\n",
              "       '1966,296,\"Parke, Davis\",224.6,32.7',\n",
              "       '1966,449,\"U.S. Smelting, Refining & Mining\",125.2,7.2', '1967',\n",
              "       '1967,246,\"Libby, McNeill & Libby\",317.6,4',\n",
              "       '1967,313,\"Parke, Davis\",239.9,31.8',\n",
              "       '1967,469,\"U.S. Smelting, Refining & Mining\",139.1,12.9', '1968',\n",
              "       '1968,245,\"Libby, McNeill & Libby\",341.1,4.2',\n",
              "       '1968,322,\"Parke, Davis\",239.2,21', '1969',\n",
              "       '1969,264,\"Libby, McNeill & Libby\",344.4,5.6',\n",
              "       '1969,333,\"Parke, Davis\",251,18.6', '1970',\n",
              "       '1970,278,\"Libby, McNeill & Libby\",345.6,-15.1',\n",
              "       '1970,340,\"Parke, Davis\",273.5,20.7',\n",
              "       '1970,463,\"U.S. Smelting, Refining & Mining\",174.9,21.7', '1971',\n",
              "       '1971,293,\"Libby, McNeill & Libby\",350.7,-7.7', '1972',\n",
              "       '1972,291,\"Libby, McNeill & Libby\",375.8,12.5', '1973',\n",
              "       '1973,302,\"Libby, McNeill & Libby\",407.2,-0.5', '1974',\n",
              "       '1974,331,\"Libby, McNeill & Libby\",434.5,8.9', '1975',\n",
              "       '1975,364,\"Libby, McNeill & Libby\",464.7,13.5', '1976',\n",
              "       '1976,357,\"Libby, McNeill & Libby\",474.8,9.8', '1977',\n",
              "       '1977,371,\"Libby, McNeill & Libby\",502.4,3.5', '1978', '1979',\n",
              "       '1980', '1981', '1982', '1983', '1984', '1985', '1986', '1987',\n",
              "       '1988', '1989', '1990', '1991', '1992', '1993', '1994', '1995',\n",
              "       '1995,91,\"MediaOne Group, Inc.\",11506,1426',\n",
              "       '1995,310,\"HomeBase, Inc.\",3650.3,65', '1996',\n",
              "       '1996,106,\"MediaOne Group, Inc.\",11746,1317',\n",
              "       '1996,315,\"HomeBase, Inc.\",3978.4,73', '1997',\n",
              "       '1997,102,\"MediaOne Group, Inc.\",12911,1178',\n",
              "       '1997,314,\"HomeBase, Inc.\",4375.5,76.7', '1998',\n",
              "       '1998,87,\"MediaOne Group, Inc.\",15352,697', '1999', '2000', '2001',\n",
              "       '2002', '2003', '2004', '2005'], dtype=object)"
            ]
          },
          "metadata": {
            "tags": []
          },
          "execution_count": 2
        }
      ]
    },
    {
      "cell_type": "code",
      "metadata": {
        "colab": {
          "base_uri": "https://localhost:8080/"
        },
        "id": "Ijlliion1LPo",
        "outputId": "11d7322e-6aec-4b0c-df3f-def9f7571517"
      },
      "source": [
        "data.Year = data.Year.str[:4]\n",
        "data.Year.unique()"
      ],
      "execution_count": 3,
      "outputs": [
        {
          "output_type": "execute_result",
          "data": {
            "text/plain": [
              "array(['1955', '1956', '1957', '1958', '1959', '1960', '1961', '1962',\n",
              "       '1963', '1964', '1965', '1966', '1967', '1968', '1969', '1970',\n",
              "       '1971', '1972', '1973', '1974', '1975', '1976', '1977', '1978',\n",
              "       '1979', '1980', '1981', '1982', '1983', '1984', '1985', '1986',\n",
              "       '1987', '1988', '1989', '1990', '1991', '1992', '1993', '1994',\n",
              "       '1995', '1996', '1997', '1998', '1999', '2000', '2001', '2002',\n",
              "       '2003', '2004', '2005'], dtype=object)"
            ]
          },
          "metadata": {
            "tags": []
          },
          "execution_count": 3
        }
      ]
    },
    {
      "cell_type": "code",
      "metadata": {
        "colab": {
          "base_uri": "https://localhost:8080/"
        },
        "id": "skMT6EQv1Q7q",
        "outputId": "b27b9748-9075-467d-8b2e-10d9ac0caf1c"
      },
      "source": [
        "data.Year = data.Year.astype(int)\n",
        "data.dtypes"
      ],
      "execution_count": 5,
      "outputs": [
        {
          "output_type": "execute_result",
          "data": {
            "text/plain": [
              "Year         int64\n",
              "Rank       float64\n",
              "Company     object\n",
              "Revenue    float64\n",
              "Profit      object\n",
              "dtype: object"
            ]
          },
          "metadata": {
            "tags": []
          },
          "execution_count": 5
        }
      ]
    },
    {
      "cell_type": "code",
      "metadata": {
        "colab": {
          "base_uri": "https://localhost:8080/",
          "height": 402
        },
        "id": "80erj_jQ2HBv",
        "outputId": "b798a772-a8b3-4751-ac60-20bf769a9066"
      },
      "source": [
        "requisit = data[(data.Year >= 1990) & (data.Year <= 1995)]\n",
        "requisit"
      ],
      "execution_count": 6,
      "outputs": [
        {
          "output_type": "execute_result",
          "data": {
            "text/html": [
              "<div>\n",
              "<style scoped>\n",
              "    .dataframe tbody tr th:only-of-type {\n",
              "        vertical-align: middle;\n",
              "    }\n",
              "\n",
              "    .dataframe tbody tr th {\n",
              "        vertical-align: top;\n",
              "    }\n",
              "\n",
              "    .dataframe thead th {\n",
              "        text-align: right;\n",
              "    }\n",
              "</style>\n",
              "<table border=\"1\" class=\"dataframe\">\n",
              "  <thead>\n",
              "    <tr style=\"text-align: right;\">\n",
              "      <th></th>\n",
              "      <th>Year</th>\n",
              "      <th>Rank</th>\n",
              "      <th>Company</th>\n",
              "      <th>Revenue</th>\n",
              "      <th>Profit</th>\n",
              "    </tr>\n",
              "  </thead>\n",
              "  <tbody>\n",
              "    <tr>\n",
              "      <th>17500</th>\n",
              "      <td>1990</td>\n",
              "      <td>1.0</td>\n",
              "      <td>General Motors</td>\n",
              "      <td>126974.3</td>\n",
              "      <td>4224.3</td>\n",
              "    </tr>\n",
              "    <tr>\n",
              "      <th>17501</th>\n",
              "      <td>1990</td>\n",
              "      <td>2.0</td>\n",
              "      <td>Ford Motor</td>\n",
              "      <td>96932.6</td>\n",
              "      <td>3835</td>\n",
              "    </tr>\n",
              "    <tr>\n",
              "      <th>17502</th>\n",
              "      <td>1990</td>\n",
              "      <td>3.0</td>\n",
              "      <td>Exxon Mobil</td>\n",
              "      <td>86656.0</td>\n",
              "      <td>3510</td>\n",
              "    </tr>\n",
              "    <tr>\n",
              "      <th>17503</th>\n",
              "      <td>1990</td>\n",
              "      <td>4.0</td>\n",
              "      <td>Intl. Business Machines</td>\n",
              "      <td>63438.0</td>\n",
              "      <td>3758</td>\n",
              "    </tr>\n",
              "    <tr>\n",
              "      <th>17504</th>\n",
              "      <td>1990</td>\n",
              "      <td>5.0</td>\n",
              "      <td>General Electric</td>\n",
              "      <td>55264.0</td>\n",
              "      <td>3939</td>\n",
              "    </tr>\n",
              "    <tr>\n",
              "      <th>...</th>\n",
              "      <td>...</td>\n",
              "      <td>...</td>\n",
              "      <td>...</td>\n",
              "      <td>...</td>\n",
              "      <td>...</td>\n",
              "    </tr>\n",
              "    <tr>\n",
              "      <th>20495</th>\n",
              "      <td>1995</td>\n",
              "      <td>496.0</td>\n",
              "      <td>Lutheran Brotherhood</td>\n",
              "      <td>2222.7</td>\n",
              "      <td>66.5</td>\n",
              "    </tr>\n",
              "    <tr>\n",
              "      <th>20496</th>\n",
              "      <td>1995</td>\n",
              "      <td>497.0</td>\n",
              "      <td>MicroAge</td>\n",
              "      <td>2220.8</td>\n",
              "      <td>16.3</td>\n",
              "    </tr>\n",
              "    <tr>\n",
              "      <th>20497</th>\n",
              "      <td>1995</td>\n",
              "      <td>498.0</td>\n",
              "      <td>MCI WorldCom</td>\n",
              "      <td>2220.8</td>\n",
              "      <td>-122.2</td>\n",
              "    </tr>\n",
              "    <tr>\n",
              "      <th>20498</th>\n",
              "      <td>1995</td>\n",
              "      <td>499.0</td>\n",
              "      <td>First Data</td>\n",
              "      <td>2207.5</td>\n",
              "      <td>160.2</td>\n",
              "    </tr>\n",
              "    <tr>\n",
              "      <th>20499</th>\n",
              "      <td>1995</td>\n",
              "      <td>500.0</td>\n",
              "      <td>Dow Corning</td>\n",
              "      <td>2204.6</td>\n",
              "      <td>-6.8</td>\n",
              "    </tr>\n",
              "  </tbody>\n",
              "</table>\n",
              "<p>3000 rows × 5 columns</p>\n",
              "</div>"
            ],
            "text/plain": [
              "       Year   Rank                  Company   Revenue  Profit\n",
              "17500  1990    1.0           General Motors  126974.3  4224.3\n",
              "17501  1990    2.0               Ford Motor   96932.6    3835\n",
              "17502  1990    3.0              Exxon Mobil   86656.0    3510\n",
              "17503  1990    4.0  Intl. Business Machines   63438.0    3758\n",
              "17504  1990    5.0         General Electric   55264.0    3939\n",
              "...     ...    ...                      ...       ...     ...\n",
              "20495  1995  496.0     Lutheran Brotherhood    2222.7    66.5\n",
              "20496  1995  497.0                 MicroAge    2220.8    16.3\n",
              "20497  1995  498.0             MCI WorldCom    2220.8  -122.2\n",
              "20498  1995  499.0               First Data    2207.5   160.2\n",
              "20499  1995  500.0              Dow Corning    2204.6    -6.8\n",
              "\n",
              "[3000 rows x 5 columns]"
            ]
          },
          "metadata": {
            "tags": []
          },
          "execution_count": 6
        }
      ]
    },
    {
      "cell_type": "code",
      "metadata": {
        "id": "nYgzkgrz2VoQ"
      },
      "source": [
        ""
      ],
      "execution_count": null,
      "outputs": []
    }
  ]
}